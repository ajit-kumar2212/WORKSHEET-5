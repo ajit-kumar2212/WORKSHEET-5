{
 "cells": [
  {
   "cell_type": "markdown",
   "id": "c488ab6c",
   "metadata": {},
   "source": [
    "# STATISTICS WORKSHEET-5"
   ]
  },
  {
   "cell_type": "code",
   "execution_count": null,
   "id": "c79fa576",
   "metadata": {},
   "outputs": [],
   "source": [
    "1. (D) expected\n",
    "2. (C) frequencies\n",
    "3. (C) 6\n",
    "4. (B) Chi-squared\n",
    "5. (C) f distribution\n",
    "6. (B) hypothesis\n",
    "7. (A) null hyouthesis\n",
    "8. (A) Two tailed\n",
    "9. (B) Research hypothesis\n",
    "10. (A) np"
   ]
  }
 ],
 "metadata": {
  "kernelspec": {
   "display_name": "Python 3 (ipykernel)",
   "language": "python",
   "name": "python3"
  },
  "language_info": {
   "codemirror_mode": {
    "name": "ipython",
    "version": 3
   },
   "file_extension": ".py",
   "mimetype": "text/x-python",
   "name": "python",
   "nbconvert_exporter": "python",
   "pygments_lexer": "ipython3",
   "version": "3.9.12"
  }
 },
 "nbformat": 4,
 "nbformat_minor": 5
}
